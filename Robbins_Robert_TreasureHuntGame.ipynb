{
 "cells": [
  {
   "cell_type": "markdown",
   "metadata": {},
   "source": [
    "# Treasure Hunt Game Notebook\n",
    "\n",
    "## Read and Review Your Starter Code\n",
    "The theme of this project is a popular treasure hunt game in which the player needs to find the treasure before the pirate does. While you will not be developing the entire game, you will write the part of the game that represents the intelligent agent, which is a pirate in this case. The pirate will try to find the optimal path to the treasure using deep Q-learning. \n",
    "\n",
    "You have been provided with two Python classes and this notebook to help you with this assignment. The first class, <b>TreasureMaze.py</b>, represents the environment, which includes a maze object defined as a matrix. The second class, <b>GameExperience.py</b>, stores the episodes – that is, all the states that come in between the initial state and the terminal state. This is later used by the agent for learning by experience, called \"exploration\". This notebook shows how to play a game. Your task is to complete the deep Q-learning implementation in the qtrain() function for which a skeleton implementation has been provided. \n",
    "\n",
    "The code block you will need to complete has <b>#TODO</b> as a header.\n",
    "\n",
    "First, read and review the next few code and instruction blocks to understand the code that you have been given."
   ]
  },
  {
   "cell_type": "markdown",
   "metadata": {},
   "source": [
    "<div class=\"alert alert-block alert-warning\" style=\"color: #333333;\">\n",
    "<b>Installations</b> The following command will install the necessary Python libraries to necessary to run this application. If you see a \"[notice] A new release of pip is available: 23.1.2 -> 25.2\" at the end of the installation, you may disregard that statement. \n",
    "</div>"
   ]
  },
  {
   "cell_type": "code",
   "execution_count": 87,
   "metadata": {
    "scrolled": true
   },
   "outputs": [
    {
     "name": "stdout",
     "output_type": "stream",
     "text": [
      "Requirement already satisfied: numpy==1.26.4 in /Users/robertrobbins/Documents/code/python/myvenv39/lib/python3.9/site-packages (from -r requirements.txt (line 1)) (1.26.4)\n",
      "Requirement already satisfied: keras in /Users/robertrobbins/Documents/code/python/myvenv39/lib/python3.9/site-packages (from -r requirements.txt (line 2)) (3.10.0)\n",
      "Requirement already satisfied: tensorflow==2.19.0 in /Users/robertrobbins/Documents/code/python/myvenv39/lib/python3.9/site-packages (from -r requirements.txt (line 3)) (2.19.0)\n",
      "Requirement already satisfied: absl-py>=1.0.0 in /Users/robertrobbins/Documents/code/python/myvenv39/lib/python3.9/site-packages (from tensorflow==2.19.0->-r requirements.txt (line 3)) (2.3.1)\n",
      "Requirement already satisfied: astunparse>=1.6.0 in /Users/robertrobbins/Documents/code/python/myvenv39/lib/python3.9/site-packages (from tensorflow==2.19.0->-r requirements.txt (line 3)) (1.6.3)\n",
      "Requirement already satisfied: flatbuffers>=24.3.25 in /Users/robertrobbins/Documents/code/python/myvenv39/lib/python3.9/site-packages (from tensorflow==2.19.0->-r requirements.txt (line 3)) (25.9.23)\n",
      "Requirement already satisfied: gast!=0.5.0,!=0.5.1,!=0.5.2,>=0.2.1 in /Users/robertrobbins/Documents/code/python/myvenv39/lib/python3.9/site-packages (from tensorflow==2.19.0->-r requirements.txt (line 3)) (0.6.0)\n",
      "Requirement already satisfied: google-pasta>=0.1.1 in /Users/robertrobbins/Documents/code/python/myvenv39/lib/python3.9/site-packages (from tensorflow==2.19.0->-r requirements.txt (line 3)) (0.2.0)\n",
      "Requirement already satisfied: libclang>=13.0.0 in /Users/robertrobbins/Documents/code/python/myvenv39/lib/python3.9/site-packages (from tensorflow==2.19.0->-r requirements.txt (line 3)) (18.1.1)\n",
      "Requirement already satisfied: opt-einsum>=2.3.2 in /Users/robertrobbins/Documents/code/python/myvenv39/lib/python3.9/site-packages (from tensorflow==2.19.0->-r requirements.txt (line 3)) (3.4.0)\n",
      "Requirement already satisfied: packaging in /Users/robertrobbins/Documents/code/python/myvenv39/lib/python3.9/site-packages (from tensorflow==2.19.0->-r requirements.txt (line 3)) (25.0)\n",
      "Requirement already satisfied: protobuf!=4.21.0,!=4.21.1,!=4.21.2,!=4.21.3,!=4.21.4,!=4.21.5,<6.0.0dev,>=3.20.3 in /Users/robertrobbins/Documents/code/python/myvenv39/lib/python3.9/site-packages (from tensorflow==2.19.0->-r requirements.txt (line 3)) (5.29.5)\n",
      "Requirement already satisfied: requests<3,>=2.21.0 in /Users/robertrobbins/Documents/code/python/myvenv39/lib/python3.9/site-packages (from tensorflow==2.19.0->-r requirements.txt (line 3)) (2.32.5)\n",
      "Requirement already satisfied: setuptools in /Users/robertrobbins/Documents/code/python/myvenv39/lib/python3.9/site-packages (from tensorflow==2.19.0->-r requirements.txt (line 3)) (80.9.0)\n",
      "Requirement already satisfied: six>=1.12.0 in /Users/robertrobbins/Documents/code/python/myvenv39/lib/python3.9/site-packages (from tensorflow==2.19.0->-r requirements.txt (line 3)) (1.17.0)\n",
      "Requirement already satisfied: termcolor>=1.1.0 in /Users/robertrobbins/Documents/code/python/myvenv39/lib/python3.9/site-packages (from tensorflow==2.19.0->-r requirements.txt (line 3)) (3.1.0)\n",
      "Requirement already satisfied: typing-extensions>=3.6.6 in /Users/robertrobbins/Documents/code/python/myvenv39/lib/python3.9/site-packages (from tensorflow==2.19.0->-r requirements.txt (line 3)) (4.15.0)\n",
      "Requirement already satisfied: wrapt>=1.11.0 in /Users/robertrobbins/Documents/code/python/myvenv39/lib/python3.9/site-packages (from tensorflow==2.19.0->-r requirements.txt (line 3)) (1.17.3)\n",
      "Requirement already satisfied: grpcio<2.0,>=1.24.3 in /Users/robertrobbins/Documents/code/python/myvenv39/lib/python3.9/site-packages (from tensorflow==2.19.0->-r requirements.txt (line 3)) (1.75.1)\n",
      "Requirement already satisfied: tensorboard~=2.19.0 in /Users/robertrobbins/Documents/code/python/myvenv39/lib/python3.9/site-packages (from tensorflow==2.19.0->-r requirements.txt (line 3)) (2.19.0)\n",
      "Requirement already satisfied: h5py>=3.11.0 in /Users/robertrobbins/Documents/code/python/myvenv39/lib/python3.9/site-packages (from tensorflow==2.19.0->-r requirements.txt (line 3)) (3.14.0)\n",
      "Requirement already satisfied: ml-dtypes<1.0.0,>=0.5.1 in /Users/robertrobbins/Documents/code/python/myvenv39/lib/python3.9/site-packages (from tensorflow==2.19.0->-r requirements.txt (line 3)) (0.5.3)\n",
      "Requirement already satisfied: tensorflow-io-gcs-filesystem>=0.23.1 in /Users/robertrobbins/Documents/code/python/myvenv39/lib/python3.9/site-packages (from tensorflow==2.19.0->-r requirements.txt (line 3)) (0.37.1)\n",
      "Requirement already satisfied: charset_normalizer<4,>=2 in /Users/robertrobbins/Documents/code/python/myvenv39/lib/python3.9/site-packages (from requests<3,>=2.21.0->tensorflow==2.19.0->-r requirements.txt (line 3)) (3.4.3)\n",
      "Requirement already satisfied: idna<4,>=2.5 in /Users/robertrobbins/Documents/code/python/myvenv39/lib/python3.9/site-packages (from requests<3,>=2.21.0->tensorflow==2.19.0->-r requirements.txt (line 3)) (3.10)\n",
      "Requirement already satisfied: urllib3<3,>=1.21.1 in /Users/robertrobbins/Documents/code/python/myvenv39/lib/python3.9/site-packages (from requests<3,>=2.21.0->tensorflow==2.19.0->-r requirements.txt (line 3)) (2.5.0)\n",
      "Requirement already satisfied: certifi>=2017.4.17 in /Users/robertrobbins/Documents/code/python/myvenv39/lib/python3.9/site-packages (from requests<3,>=2.21.0->tensorflow==2.19.0->-r requirements.txt (line 3)) (2025.8.3)\n",
      "Requirement already satisfied: markdown>=2.6.8 in /Users/robertrobbins/Documents/code/python/myvenv39/lib/python3.9/site-packages (from tensorboard~=2.19.0->tensorflow==2.19.0->-r requirements.txt (line 3)) (3.9)\n",
      "Requirement already satisfied: tensorboard-data-server<0.8.0,>=0.7.0 in /Users/robertrobbins/Documents/code/python/myvenv39/lib/python3.9/site-packages (from tensorboard~=2.19.0->tensorflow==2.19.0->-r requirements.txt (line 3)) (0.7.2)\n",
      "Requirement already satisfied: werkzeug>=1.0.1 in /Users/robertrobbins/Documents/code/python/myvenv39/lib/python3.9/site-packages (from tensorboard~=2.19.0->tensorflow==2.19.0->-r requirements.txt (line 3)) (3.1.3)\n",
      "Requirement already satisfied: rich in /Users/robertrobbins/Documents/code/python/myvenv39/lib/python3.9/site-packages (from keras->-r requirements.txt (line 2)) (14.1.0)\n",
      "Requirement already satisfied: namex in /Users/robertrobbins/Documents/code/python/myvenv39/lib/python3.9/site-packages (from keras->-r requirements.txt (line 2)) (0.1.0)\n",
      "Requirement already satisfied: optree in /Users/robertrobbins/Documents/code/python/myvenv39/lib/python3.9/site-packages (from keras->-r requirements.txt (line 2)) (0.17.0)\n",
      "Requirement already satisfied: wheel<1.0,>=0.23.0 in /Users/robertrobbins/Documents/code/python/myvenv39/lib/python3.9/site-packages (from astunparse>=1.6.0->tensorflow==2.19.0->-r requirements.txt (line 3)) (0.45.1)\n",
      "Requirement already satisfied: importlib-metadata>=4.4 in /Users/robertrobbins/Documents/code/python/myvenv39/lib/python3.9/site-packages (from markdown>=2.6.8->tensorboard~=2.19.0->tensorflow==2.19.0->-r requirements.txt (line 3)) (8.7.0)\n",
      "Requirement already satisfied: zipp>=3.20 in /Users/robertrobbins/Documents/code/python/myvenv39/lib/python3.9/site-packages (from importlib-metadata>=4.4->markdown>=2.6.8->tensorboard~=2.19.0->tensorflow==2.19.0->-r requirements.txt (line 3)) (3.23.0)\n",
      "Requirement already satisfied: MarkupSafe>=2.1.1 in /Users/robertrobbins/Documents/code/python/myvenv39/lib/python3.9/site-packages (from werkzeug>=1.0.1->tensorboard~=2.19.0->tensorflow==2.19.0->-r requirements.txt (line 3)) (3.0.3)\n",
      "Requirement already satisfied: markdown-it-py>=2.2.0 in /Users/robertrobbins/Documents/code/python/myvenv39/lib/python3.9/site-packages (from rich->keras->-r requirements.txt (line 2)) (3.0.0)\n",
      "Requirement already satisfied: pygments<3.0.0,>=2.13.0 in /Users/robertrobbins/Documents/code/python/myvenv39/lib/python3.9/site-packages (from rich->keras->-r requirements.txt (line 2)) (2.19.2)\n",
      "Requirement already satisfied: mdurl~=0.1 in /Users/robertrobbins/Documents/code/python/myvenv39/lib/python3.9/site-packages (from markdown-it-py>=2.2.0->rich->keras->-r requirements.txt (line 2)) (0.1.2)\n"
     ]
    }
   ],
   "source": [
    "!pip install -r requirements.txt"
   ]
  },
  {
   "cell_type": "markdown",
   "metadata": {},
   "source": [
    "<h2>Tensorflow CPU Acceleration Warning</h2>\n",
    "<div class=\"alert alert-block alert-danger\" style=\"color: #333333;\">\n",
    "    You will see a <b>warning in red</b> \"oneDNN custom operations are on. You may see slightly different numerical results due to floating-point round-off errors from different computation orders\". This is simply coming from <b>Tensorflow to accelerate computations on CPU.</b>  \n",
    "</div>"
   ]
  },
  {
   "cell_type": "code",
   "execution_count": 88,
   "metadata": {},
   "outputs": [],
   "source": [
    "from __future__ import print_function\n",
    "import os, sys, time, datetime, json, random\n",
    "import numpy as np\n",
    "import tensorflow as tf\n",
    "from tensorflow.keras.models import clone_model\n",
    "from keras.models import Sequential\n",
    "from keras.layers import Dense, Activation, PReLU\n",
    "from keras.optimizers import SGD , Adam, RMSprop\n",
    "import matplotlib.pyplot as plt\n",
    "from TreasureMaze import TreasureMaze\n",
    "from GameExperience import GameExperience\n",
    "%matplotlib inline"
   ]
  },
  {
   "cell_type": "markdown",
   "metadata": {},
   "source": [
    "<h2> Maze Object Generation</h2>\n",
    "\n",
    "The following code block contains an 8x8 matrix that will be used as a maze object:"
   ]
  },
  {
   "cell_type": "code",
   "execution_count": 89,
   "metadata": {},
   "outputs": [],
   "source": [
    "maze = np.array([\n",
    "    [ 1.,  0.,  1.,  1.,  1.,  1.,  1.,  1.],\n",
    "    [ 1.,  0.,  1.,  1.,  1.,  0.,  1.,  1.],\n",
    "    [ 1.,  1.,  1.,  1.,  0.,  1.,  0.,  1.],\n",
    "    [ 1.,  1.,  1.,  0.,  1.,  1.,  1.,  1.],\n",
    "    [ 1.,  1.,  0.,  1.,  1.,  1.,  1.,  1.],\n",
    "    [ 1.,  1.,  1.,  0.,  1.,  0.,  0.,  0.],\n",
    "    [ 1.,  1.,  1.,  0.,  1.,  1.,  1.,  1.],\n",
    "    [ 1.,  1.,  1.,  1.,  0.,  1.,  1.,  1.]\n",
    "])"
   ]
  },
  {
   "cell_type": "markdown",
   "metadata": {},
   "source": [
    "<h2>Helper Functions and Global Variables</h2>\n",
    "\n",
    "This <b>show()</b> helper function allows a visual representation of the maze object:"
   ]
  },
  {
   "cell_type": "code",
   "execution_count": 90,
   "metadata": {},
   "outputs": [],
   "source": [
    "def show(qmaze):\n",
    "    plt.grid('on')\n",
    "    nrows, ncols = qmaze.maze.shape\n",
    "    ax = plt.gca()\n",
    "    ax.set_xticks(np.arange(0.5, nrows, 1))\n",
    "    ax.set_yticks(np.arange(0.5, ncols, 1))\n",
    "    ax.set_xticklabels([])\n",
    "    ax.set_yticklabels([])\n",
    "    canvas = np.copy(qmaze.maze)\n",
    "    for row,col in qmaze.visited:\n",
    "        canvas[row,col] = 0.6\n",
    "    pirate_row, pirate_col, _ = qmaze.state\n",
    "    canvas[pirate_row, pirate_col] = 0.3   # pirate cell\n",
    "    canvas[nrows-1, ncols-1] = 0.9 # treasure cell\n",
    "    img = plt.imshow(canvas, interpolation='none', cmap='gray')\n",
    "    return img"
   ]
  },
  {
   "cell_type": "markdown",
   "metadata": {},
   "source": [
    "The <b>pirate agent</b> can move in four directions: left, right, up, and down. \n",
    "\n",
    "While the agent primarily learns by experience through exploitation, often, the agent can choose to explore the environment to find previously undiscovered paths. This is called \"exploration\" and is defined by epsilon. This value is the EXPLORATION values from the Cartpole assignment. The hyperparameters are provided here and used in the qtrain() method. \n",
    "You are encouraged to try various values for the exploration factor and see how the algorithm performs."
   ]
  },
  {
   "cell_type": "code",
   "execution_count": 91,
   "metadata": {},
   "outputs": [],
   "source": [
    "LEFT = 0\n",
    "UP = 1\n",
    "RIGHT = 2\n",
    "DOWN = 3\n",
    "\n",
    "\n",
    "# Exploration factor\n",
    "epsilon = 1.0\n",
    "epsilon_min = 0.05\n",
    "epsilon_decay = 0.995\n",
    "patience = 10\n",
    "\n",
    "# Actions dictionary\n",
    "actions_dict = {\n",
    "    LEFT: 'left',\n",
    "    UP: 'up',\n",
    "    RIGHT: 'right',\n",
    "    DOWN: 'down',\n",
    "}\n",
    "\n",
    "num_actions = len(actions_dict)\n"
   ]
  },
  {
   "cell_type": "markdown",
   "metadata": {},
   "source": [
    "The sample code block and output below show creating a maze object and performing one action (DOWN), which returns the reward. The resulting updated environment is visualized."
   ]
  },
  {
   "cell_type": "code",
   "execution_count": 92,
   "metadata": {},
   "outputs": [
    {
     "name": "stdout",
     "output_type": "stream",
     "text": [
      "reward= -0.04\n"
     ]
    },
    {
     "data": {
      "text/plain": [
       "<matplotlib.image.AxesImage at 0x169e13d60>"
      ]
     },
     "execution_count": 92,
     "metadata": {},
     "output_type": "execute_result"
    },
    {
     "data": {
      "image/png": "[encoded data removed]",
      "text/plain": [
       "<Figure size 640x480 with 1 Axes>"
      ]
     },
     "metadata": {},
     "output_type": "display_data"
    }
   ],
   "source": [
    "qmaze = TreasureMaze(maze)\n",
    "canvas, reward, game_over = qmaze.act(DOWN)\n",
    "print(\"reward=\", reward)\n",
    "show(qmaze)"
   ]
  },
  {
   "cell_type": "markdown",
   "metadata": {},
   "source": [
    "This <b>play_game()</b> function simulates a full game based on the provided trained model. The other parameters include the TreasureMaze object, the starting position of the pirate and max amount of steps to make sure the code does not get stuck in a loop."
   ]
  },
  {
   "cell_type": "code",
   "execution_count": 93,
   "metadata": {},
   "outputs": [],
   "source": [
    "def play_game(model, qmaze, pirate_cell, max_steps=None):\n",
    "    qmaze.reset(pirate_cell)\n",
    "    envstate = qmaze.observe()\n",
    "    steps = 0\n",
    "    if max_steps is None:\n",
    "        max_steps = qmaze.maze.size * 4  # safety cutoff\n",
    "\n",
    "    while steps < max_steps:\n",
    "        state = np.asarray(envstate, dtype=np.float32)\n",
    "        if state.ndim == 1:\n",
    "            state = np.expand_dims(state, axis=0)\n",
    "\n",
    "        q_values = model(state, training=False).numpy()\n",
    "        action = np.argmax(q_values[0])\n",
    "\n",
    "        envstate, reward, game_status = qmaze.act(action)\n",
    "        steps += 1\n",
    "\n",
    "        if game_status == 'win':\n",
    "            return True\n",
    "        elif game_status == 'lose':\n",
    "            return False\n",
    "\n",
    "    return False  # timed out with no result"
   ]
  },
  {
   "cell_type": "markdown",
   "metadata": {},
   "source": [
    "This <b>completion_check()</b> function helps you to determine whether the pirate can win any game at all. If your maze is not well designed, the pirate may not win any game at all. In this case, your training would not yield any result. The provided maze in this notebook ensures that there is a path to win and you can run this method to check."
   ]
  },
  {
   "cell_type": "code",
   "execution_count": 94,
   "metadata": {},
   "outputs": [],
   "source": [
    "def completion_check(model, maze_or_qmaze, max_steps=None):\n",
    "    # Accept either raw numpy maze or TreasureMaze instance\n",
    "    if isinstance(maze_or_qmaze, TreasureMaze):\n",
    "        qmaze = maze_or_qmaze\n",
    "    else:\n",
    "        qmaze = TreasureMaze(maze_or_qmaze)\n",
    "\n",
    "    for cell in qmaze.free_cells:\n",
    "        if not qmaze.valid_actions(cell):\n",
    "            continue\n",
    "        if not play_game(model, qmaze, cell, max_steps=max_steps):\n",
    "            return False\n",
    "    return True"
   ]
  },
  {
   "cell_type": "markdown",
   "metadata": {},
   "source": [
    "The <b>build_model()</b> function in the block below will build the neural network model. Review the code and note the number of layers, as well as the activation, optimizer, and loss functions that are used to train the model."
   ]
  },
  {
   "cell_type": "code",
   "execution_count": 95,
   "metadata": {},
   "outputs": [],
   "source": [
    "def build_model(maze):\n",
    "    model = Sequential()\n",
    "    model.add(Dense(maze.size, input_shape=(maze.size,)))\n",
    "    model.add(PReLU())\n",
    "    model.add(Dense(maze.size))\n",
    "    model.add(PReLU())\n",
    "    model.add(Dense(num_actions))\n",
    "    model.compile(optimizer='adam', loss='mse')\n",
    "    return model"
   ]
  },
  {
   "cell_type": "markdown",
   "metadata": {},
   "source": [
    "This <b>train_step()</b> helper function in the block below is used to help predict Q-values (quality values) in the current modelto see how good each action is in a given state and improve the Q-network by reducing the gap between what is predicted and what should have been predicted. \n",
    "\n",
    "If you're interested in reading up on the <i>@tf.function</i>, which is a decorator for Tensorflow to run this code into a TensorFlow computation graph, please refer to this link: https://www.tensorflow.org/guide/intro_to_graphs\n",
    "\n"
   ]
  },
  {
   "cell_type": "markdown",
   "metadata": {},
   "source": [
    "<h2>Tensorflow GPU Warning</h2>\n",
    "<div class=\"alert alert-block alert-danger\" style=\"color: #333333;\">\n",
    "    You will see a <b>warning in red</b> \"INTERNAL: CUDA Runtime error: Failed call to cudaGetRuntimeVersion: Error loading CUDA libraries. GPU will not be used.\". This is simply coming from <b>Tensorflow skipping using GPU for this assignment.</b>  \n",
    " </div>"
   ]
  },
  {
   "cell_type": "code",
   "execution_count": 96,
   "metadata": {},
   "outputs": [],
   "source": [
    "loss_fn = tf.keras.losses.MeanSquaredError()\n",
    "optimizer = tf.keras.optimizers.Adam()\n",
    "\n",
    "@tf.function\n",
    "def train_step(x, y):\n",
    "    with tf.GradientTape() as tape:\n",
    "        q_values = model(x, training=True)\n",
    "        loss = loss_fn(y, q_values)\n",
    "    grads = tape.gradient(loss, model.trainable_variables)\n",
    "    optimizer.apply_gradients(zip(grads, model.trainable_variables))\n",
    "    return loss"
   ]
  },
  {
   "cell_type": "markdown",
   "metadata": {},
   "source": [
    "# #TODO: Complete the Q-Training Algorithm Code Block\n",
    "\n",
    "This is your deep Q-learning implementation. The goal of your deep Q-learning implementation is to find the best possible navigation sequence that results in reaching the treasure cell while maximizing the reward. In your implementation, you need to determine the optimal number of epochs to achieve a 100% win rate.\n",
    "\n",
    "    Pseudocode:\n",
    "    For each epoch:\n",
    "        Reset the environment at a random starting cell\n",
    "        agent_cell = randomly select a free cell\n",
    "        Hint: Review the reset method in the TreasureMaze.py class.\n",
    "    \n",
    "        Set the initial environment state\n",
    "        env_state should reference the environment's current state\n",
    "        Hint: Review the observe method in the TreasureMaze.py class.\n",
    "\n",
    "        While game status is not game over:\n",
    "           previous_envstate = env_state\n",
    "            Decide on an action:\n",
    "                - If possible, take a random valid exploration action and \n",
    "                  randomly choose action (left, right, up, down)\n",
    "                  and assign it to an action variable\n",
    "                - Else, pick the best exploitation action from the model and assign it to an action variable\n",
    "                  Hint: Review the predict method in the GameExperience.py class.\n",
    "    \n",
    "           Retrieve the values below from the act() method.\n",
    "           env_state, reward, game_status = qmaze.act(action)\n",
    "           Hint: Review the act method in the TreasureMaze.py class.\n",
    "    \n",
    "            Track the wins and losses from the game_status using win_history \n",
    "         \n",
    "           Store the episode below in the Experience replay object\n",
    "           episode = [previous_envstate, action, reward, envstate, game_status]\n",
    "           Hint: Review the remember method in the GameExperience.py class.\n",
    "        \n",
    "           Train neural network model and evaluate loss\n",
    "           Hint: Call GameExperience.get_data to retrieve training data (input and target) \n",
    "           and pass to the train_step method and assign it to batch_loss and append to the loss variable\n",
    "        \n",
    "      If the win rate is above the threshold and your model passes the completion check, that would be your epoch.\n",
    "\n",
    "Note: A 100% win rate <b>DOES NOT EXPLICITLY MEAN</b> that you have solved the maze. It simply indicates that during the last evaluation, the pirate <i>happened</i> to get to the treasure. Be sure to utilise the <b>completion_check()</b> function to validate your pirate found the treasure at every starting point and consistently! \n",
    "\n",
    "<b> You will need to complete the section starting with #START_HERE. Please use the pseudocode above as guidance. </b>\n",
    "\n",
    "\n"
   ]
  },
  {
   "cell_type": "code",
   "execution_count": 97,
   "metadata": {},
   "outputs": [],
   "source": [
    "def qtrain(model, maze, **opt):\n",
    "    # exploration factor\n",
    "    global epsilon \n",
    "    \n",
    "    # Number of epochs\n",
    "    n_epoch = opt.get('n_epoch', 15000)\n",
    "    \n",
    "    # Maximum meory to store episodes\n",
    "    max_memory = opt.get('max_memory', 1000)\n",
    "    \n",
    "    # Maximum data size for training\n",
    "    data_size = opt.get('data_size', 50)\n",
    "    \n",
    "    # Frequency of target network updates\n",
    "    target_update_freq = opt.get('target_update_freq', 50)\n",
    "    \n",
    "    # Start time\n",
    "    start_time = datetime.datetime.now()\n",
    "    \n",
    "    # Construct environment/game from numpy array: maze (see argument above)\n",
    "    qmaze = TreasureMaze(maze)\n",
    "    \n",
    "    # Target Network to better guide training\n",
    "    target_model = clone_model(model)\n",
    "    target_model.set_weights(model.get_weights())\n",
    "    \n",
    "    # Initialize experience replay object\n",
    "    experience = GameExperience(model, target_model, max_memory=max_memory)\n",
    "\n",
    "    win_history = [] # history of win/lose game\n",
    "    hsize = qmaze.maze.size // 2 #history window size\n",
    "    win_rate = 0.0\n",
    "    \n",
    "    # START_HERE\n",
    "    for epoch in range(n_epoch):  \n",
    "        # Win rate over last hsize steps \n",
    "        win_rate = sum(win_history[-hsize:]) / hsize if len(win_history) >= hsize else 0.0\n",
    "\n",
    "        # Resets the game to a random location\n",
    "        num1 = np.random.randint(0, 7)\n",
    "        num2 = np.random.randint(0, 7)\n",
    "        agent_cell = (num1, num2)\n",
    "        qmaze.reset(agent_cell)\n",
    "\n",
    "        # Sets the intial enviornment state\n",
    "        env_state = qmaze.observe()\n",
    "\n",
    "        # Resets n_episodes and loss \n",
    "        n_episodes = 0\n",
    "        loss = 0.0\n",
    "\n",
    "        # Run loop until game is won or lost\n",
    "        while qmaze.game_status() == 'not_over':\n",
    "            \n",
    "            previous_envstate = env_state\n",
    "            \n",
    "            # Gets either a random action for exploration or an action from the model for exploitaion \n",
    "            # based on if a random number is less than epsilon value\n",
    "            if np.random.rand() <= epsilon:\n",
    "                action = np.random.randint(0, num_actions)\n",
    "            else:\n",
    "                q = experience.predict(env_state)\n",
    "                action = np.argmax(q)\n",
    "\n",
    "            # Preforms action and gets values for state, reward and game status\n",
    "            env_state, reward, game_status = qmaze.act(action)\n",
    "\n",
    "            # Adds win or loss to win_history\n",
    "            # This is where I went worng in Project two. I thought I was getting the win loss information from\n",
    "            # the reward variable which caused incorrect data for win_history and win_rate which\n",
    "            # lead to never win_rate never increasing to 0.99 and the model never completing training.\n",
    "            # With this fix I was able to get 100% win rate at epoch 365.\n",
    "            if qmaze.game_status() == 'win':\n",
    "                win_history.append(1)\n",
    "            if qmaze.game_status() == 'lose':\n",
    "                win_history.append(0)\n",
    "            \n",
    "            \n",
    "\n",
    "            # Stores previous_envstate, action, reward, env_state and game_status in episode variable and \n",
    "            # calls remember method\n",
    "            episode = [previous_envstate, action, reward, env_state, game_status]\n",
    "            experience.remember(episode)\n",
    "\n",
    "            # Gets data from experience and then trains model and gets loss.\n",
    "            inputs, targets = experience.get_data()\n",
    "            batch_loss = train_step(inputs, targets)\n",
    "            loss += float(batch_loss)\n",
    "\n",
    "            # Increments n_episode count\n",
    "            n_episodes += 1\n",
    "\n",
    "            \n",
    "\n",
    "\n",
    "        # Print the epoch, loss, episode, win count, win rate, and time for each epoch\n",
    "        dt = datetime.datetime.now() - start_time\n",
    "        t = format_time(dt.total_seconds())\n",
    "        # print(\"Epoch: {:03d}/{:d} | Loss: {:.4f} | Episodes: {:d} | Win count: {:.0f} | Win rate: {:.3f} | time: {}\".format(\n",
    "        #     epoch, n_epoch-1, loss, n_episodes, sum(win_history), win_rate, t))\n",
    "\n",
    "\n",
    "        # used to print out less data while training \n",
    "        if epoch % 10 == 0:\n",
    "            print(\"Epoch: {:03d}/{:d} | Loss: {:.4f} | Episodes: {:d} | Win count: {:d} | Win rate: {:.3f} | time: {}\".format(\n",
    "            epoch, n_epoch-1, loss, n_episodes, sum(win_history), win_rate, t))\n",
    "\n",
    "        # Check if training has exhausted all free cells and if in all\n",
    "        # cases the agent won\n",
    "        if win_rate > 0.9:\n",
    "            epsilon = 0.05\n",
    "        else:\n",
    "            epsilon = max(epsilon * epsilon_decay, epsilon_min)\n",
    "    \n",
    "        if win_rate >= 0.999 and completion_check(model, maze):\n",
    "            print(f\"Reached 100% win rate at epoch {epoch}\")\n",
    "            break\n",
    "\n",
    "    total_time = format_time((datetime.datetime.now() - start_time).total_seconds())\n",
    "    print(\"Training complete in:\", total_time)\n",
    "\n",
    "\n",
    "# This is a small utility for printing readable time strings:\n",
    "def format_time(seconds):\n",
    "    if seconds < 400:\n",
    "        s = float(seconds)\n",
    "        return \"%.1f seconds\" % (s,)\n",
    "    elif seconds < 4000:\n",
    "        m = seconds / 60.0\n",
    "        return \"%.2f minutes\" % (m,)\n",
    "    else:\n",
    "        h = seconds / 3600.0\n",
    "        return \"%.2f hours\" % (h,)"
   ]
  },
  {
   "cell_type": "markdown",
   "metadata": {},
   "source": [
    "## Test Your Model\n",
    "\n",
    "Now we will start testing the deep Q-learning implementation. To begin, select **Cell**, then **Run All** from the menu bar. This will run your notebook. As it runs, you should see output begin to appear beneath the next few cells. The code below creates an <b>instance</b> of TreasureMaze. This does not show your actual training done."
   ]
  },
  {
   "cell_type": "code",
   "execution_count": 98,
   "metadata": {},
   "outputs": [
    {
     "data": {
      "text/plain": [
       "<matplotlib.image.AxesImage at 0x169e87190>"
      ]
     },
     "execution_count": 98,
     "metadata": {},
     "output_type": "execute_result"
    },
    {
     "data": {
      "image/png": "[encoded data removed]",
      "text/plain": [
       "<Figure size 640x480 with 1 Axes>"
      ]
     },
     "metadata": {},
     "output_type": "display_data"
    }
   ],
   "source": [
    "qmaze = TreasureMaze(maze)\n",
    "show(qmaze)"
   ]
  },
  {
   "cell_type": "markdown",
   "metadata": {},
   "source": [
    "In the next code block, you will build your model using the <b>build_model</b> function and train it using deep Q-learning. Note: This step takes several minutes to fully run.\n",
    "\n"
   ]
  },
  {
   "cell_type": "markdown",
   "metadata": {},
   "source": [
    "<div class=\"alert alert-block alert-danger\" style=\"color: #333333;\">\n",
    "    If you did not attempt the assignment, the code <b>will</b> error out at this section.\n",
    " </div>"
   ]
  },
  {
   "cell_type": "code",
   "execution_count": 99,
   "metadata": {
    "scrolled": true
   },
   "outputs": [
    {
     "name": "stderr",
     "output_type": "stream",
     "text": [
      "/Users/robertrobbins/Documents/code/python/myvenv39/lib/python3.9/site-packages/keras/src/layers/core/dense.py:93: UserWarning: Do not pass an `input_shape`/`input_dim` argument to a layer. When using Sequential models, prefer using an `Input(shape)` object as the first layer in the model instead.\n",
      "  super().__init__(activity_regularizer=activity_regularizer, **kwargs)\n"
     ]
    },
    {
     "name": "stdout",
     "output_type": "stream",
     "text": [
      "Epoch: 000/1999 | Loss: 1.4091 | Episodes: 145 | Win count: 0 | Win rate: 0.000 | time: 0.5 seconds\n",
      "Epoch: 010/1999 | Loss: 0.2257 | Episodes: 139 | Win count: 2 | Win rate: 0.000 | time: 3.0 seconds\n",
      "Epoch: 020/1999 | Loss: 0.4744 | Episodes: 151 | Win count: 6 | Win rate: 0.000 | time: 4.9 seconds\n",
      "Epoch: 030/1999 | Loss: 0.3102 | Episodes: 139 | Win count: 8 | Win rate: 0.000 | time: 7.2 seconds\n",
      "Epoch: 040/1999 | Loss: 0.3131 | Episodes: 148 | Win count: 12 | Win rate: 0.344 | time: 9.5 seconds\n",
      "Epoch: 050/1999 | Loss: 0.2265 | Episodes: 147 | Win count: 16 | Win rate: 0.344 | time: 11.7 seconds\n",
      "Epoch: 060/1999 | Loss: 0.1335 | Episodes: 101 | Win count: 19 | Win rate: 0.312 | time: 14.4 seconds\n",
      "Epoch: 070/1999 | Loss: 0.2276 | Episodes: 153 | Win count: 26 | Win rate: 0.469 | time: 15.8 seconds\n",
      "Epoch: 080/1999 | Loss: 0.2142 | Episodes: 144 | Win count: 28 | Win rate: 0.406 | time: 18.4 seconds\n",
      "Epoch: 090/1999 | Loss: 0.0306 | Episodes: 21 | Win count: 33 | Win rate: 0.438 | time: 20.4 seconds\n",
      "Epoch: 100/1999 | Loss: 0.1652 | Episodes: 138 | Win count: 38 | Win rate: 0.438 | time: 22.7 seconds\n",
      "Epoch: 110/1999 | Loss: 0.0262 | Episodes: 15 | Win count: 47 | Win rate: 0.594 | time: 24.3 seconds\n",
      "Epoch: 120/1999 | Loss: 0.0129 | Episodes: 13 | Win count: 52 | Win rate: 0.625 | time: 26.0 seconds\n",
      "Epoch: 130/1999 | Loss: 0.0225 | Episodes: 13 | Win count: 60 | Win rate: 0.688 | time: 27.2 seconds\n",
      "Epoch: 140/1999 | Loss: 0.0040 | Episodes: 3 | Win count: 69 | Win rate: 0.750 | time: 28.0 seconds\n",
      "Epoch: 150/1999 | Loss: 0.0357 | Episodes: 13 | Win count: 78 | Win rate: 0.875 | time: 29.0 seconds\n",
      "Epoch: 160/1999 | Loss: 0.0586 | Episodes: 45 | Win count: 87 | Win rate: 0.906 | time: 29.9 seconds\n",
      "Epoch: 170/1999 | Loss: 0.0088 | Episodes: 8 | Win count: 97 | Win rate: 0.906 | time: 30.5 seconds\n",
      "Epoch: 180/1999 | Loss: 0.0050 | Episodes: 5 | Win count: 106 | Win rate: 0.938 | time: 31.1 seconds\n",
      "Epoch: 190/1999 | Loss: 0.0098 | Episodes: 11 | Win count: 116 | Win rate: 0.969 | time: 31.7 seconds\n",
      "Epoch: 200/1999 | Loss: 0.0525 | Episodes: 53 | Win count: 126 | Win rate: 0.969 | time: 32.8 seconds\n",
      "Epoch: 210/1999 | Loss: 0.0047 | Episodes: 7 | Win count: 136 | Win rate: 1.000 | time: 33.6 seconds\n",
      "Epoch: 220/1999 | Loss: 0.0323 | Episodes: 58 | Win count: 146 | Win rate: 1.000 | time: 35.6 seconds\n",
      "Epoch: 230/1999 | Loss: 0.0215 | Episodes: 26 | Win count: 155 | Win rate: 0.969 | time: 37.3 seconds\n",
      "Epoch: 240/1999 | Loss: 0.0140 | Episodes: 22 | Win count: 165 | Win rate: 0.969 | time: 37.9 seconds\n",
      "Epoch: 250/1999 | Loss: 0.0224 | Episodes: 29 | Win count: 172 | Win rate: 0.875 | time: 39.3 seconds\n",
      "Epoch: 260/1999 | Loss: 0.0212 | Episodes: 25 | Win count: 181 | Win rate: 0.875 | time: 40.2 seconds\n",
      "Epoch: 270/1999 | Loss: 0.0109 | Episodes: 17 | Win count: 191 | Win rate: 0.875 | time: 40.8 seconds\n",
      "Epoch: 280/1999 | Loss: 0.1024 | Episodes: 138 | Win count: 200 | Win rate: 0.969 | time: 41.7 seconds\n",
      "Epoch: 290/1999 | Loss: 0.0174 | Episodes: 21 | Win count: 208 | Win rate: 0.906 | time: 43.2 seconds\n",
      "Epoch: 300/1999 | Loss: 0.0010 | Episodes: 2 | Win count: 218 | Win rate: 0.906 | time: 43.7 seconds\n",
      "Epoch: 310/1999 | Loss: 0.0121 | Episodes: 25 | Win count: 228 | Win rate: 0.906 | time: 44.3 seconds\n",
      "Epoch: 320/1999 | Loss: 0.0416 | Episodes: 49 | Win count: 238 | Win rate: 0.969 | time: 45.2 seconds\n",
      "Epoch: 330/1999 | Loss: 0.0109 | Episodes: 14 | Win count: 248 | Win rate: 1.000 | time: 48.0 seconds\n",
      "Epoch: 340/1999 | Loss: 0.0361 | Episodes: 39 | Win count: 258 | Win rate: 1.000 | time: 51.4 seconds\n",
      "Epoch: 350/1999 | Loss: 0.0284 | Episodes: 33 | Win count: 268 | Win rate: 1.000 | time: 54.0 seconds\n",
      "Epoch: 360/1999 | Loss: 0.0061 | Episodes: 6 | Win count: 278 | Win rate: 1.000 | time: 58.6 seconds\n",
      "Reached 100% win rate at epoch 365\n",
      "Training complete in: 60.1 seconds\n"
     ]
    }
   ],
   "source": [
    "model = build_model(maze)\n",
    "qtrain(model, maze, n_epoch=2000, max_memory=8*maze.size, data_size=32, target_update_freq=50)"
   ]
  },
  {
   "cell_type": "markdown",
   "metadata": {},
   "source": [
    "This cell will check to see if the model passes the completion check. Note: This could take several minutes."
   ]
  },
  {
   "cell_type": "code",
   "execution_count": 100,
   "metadata": {},
   "outputs": [
    {
     "data": {
      "text/plain": [
       "<matplotlib.image.AxesImage at 0x16a282460>"
      ]
     },
     "execution_count": 100,
     "metadata": {},
     "output_type": "execute_result"
    },
    {
     "data": {
      "image/png": "[encoded data removed]",
      "text/plain": [
       "<Figure size 640x480 with 1 Axes>"
      ]
     },
     "metadata": {},
     "output_type": "display_data"
    }
   ],
   "source": [
    "completion_check(model, qmaze)\n",
    "show(qmaze)"
   ]
  },
  {
   "cell_type": "markdown",
   "metadata": {},
   "source": [
    "This cell will test your model for one game. It will start the pirate at the top-left corner and run <b>play_game()</b>. The agent should find a path from the starting position to the target (treasure). The treasure is located in the bottom-right corner."
   ]
  },
  {
   "cell_type": "code",
   "execution_count": 101,
   "metadata": {},
   "outputs": [
    {
     "data": {
      "text/plain": [
       "<matplotlib.image.AxesImage at 0x16a2fcb20>"
      ]
     },
     "execution_count": 101,
     "metadata": {},
     "output_type": "execute_result"
    },
    {
     "data": {
      "image/png": "[encoded data removed]",
      "text/plain": [
       "<Figure size 640x480 with 1 Axes>"
      ]
     },
     "metadata": {},
     "output_type": "display_data"
    }
   ],
   "source": [
    "pirate_start = (0, 0)\n",
    "play_game(model, qmaze, pirate_start)\n",
    "show(qmaze)"
   ]
  },
  {
   "cell_type": "markdown",
   "metadata": {},
   "source": [
    "## Save and Submit Your Work\n",
    "After you have finished creating the code for your notebook, save your work.\n",
    "Make sure that your notebook contains your name in the filename (e.g. Doe_Jane_ProjectTwo.html). Download this file as an .html file clicking on ***file*** in *Jupyter Notebook*, navigating down to ***Download as*** and clicking on ***.html***. \n",
    "Download a copy of your .html file and submit it to Brightspace."
   ]
  }
 ],
 "metadata": {
  "kernelspec": {
   "display_name": "Python 3 (ipykernel)",
   "language": "python",
   "name": "python3"
  },
  "language_info": {
   "codemirror_mode": {
    "name": "ipython",
    "version": 3
   },
   "file_extension": ".py",
   "mimetype": "text/x-python",
   "name": "python",
   "nbconvert_exporter": "python",
   "pygments_lexer": "ipython3",
   "version": "3.9.23"
  }
 },
 "nbformat": 4,
 "nbformat_minor": 4
}
